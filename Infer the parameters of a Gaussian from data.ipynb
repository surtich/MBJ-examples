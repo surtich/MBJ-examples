{
 "cells": [
  {
   "cell_type": "markdown",
   "id": "8589ee99",
   "metadata": {},
   "source": [
    "# Bayesian inference on the mean and standard deviation of a Gaussian distribution"
   ]
  },
  {
   "cell_type": "markdown",
   "id": "1193a833",
   "metadata": {},
   "source": [
    "In this notebook we will start with a very simple example. It is not hierarchical and it is only meant as an introduction to more complex models in subsequent notebooks. \n",
    "\n",
    "**The problem:** We have $N$ measurements of a physical quantity, all taken with the same instrument in the same experiment. We thus assume that our measurement uncertainties are equal but unknown. We aim at inferring the true value of the quantity $\\mu$ and the associated measurement uncertainty $\\sigma$ under the hypothesis that the measurement errors are Gaussian distributed:\n",
    "$$\n",
    "x \\sim \\mathcal{N}(\\mu,\\sigma)\n",
    "$$\n",
    "\n",
    "We start by generating the data that will be used for inference. We generate ten points from a Gaussian distribution centred at 10 and with a standard deviation of 2. These are the model parameters that we aim to infer. We know them because we generate the data for this example."
   ]
  },
  {
   "cell_type": "code",
   "execution_count": 65,
   "id": "12128768",
   "metadata": {
    "vscode": {
     "languageId": "r"
    }
   },
   "outputs": [
    {
     "data": {
      "image/png": "[encoded data removed]",
      "text/plain": [
       "Plot with title \"\""
      ]
     },
     "metadata": {
      "image/png": {
       "height": 420,
       "width": 420
      }
     },
     "output_type": "display_data"
    }
   ],
   "source": [
    "set.seed(0)\n",
    "x <- rnorm(25,mean = 10, sd = 2)\n",
    "par(mfcol=c(1,2))\n",
    "hist(x, xlab=\"x\",ylab=\"Counts\")\n",
    "plot(density(x),xlab=\"x\",ylab=\"Probability density\",main=\"\")"
   ]
  },
  {
   "cell_type": "markdown",
   "id": "cf43fe15",
   "metadata": {},
   "source": [
    "\n",
    "\n",
    "\n",
    "\n",
    "\n",
    "\n",
    "\n",
    "\n",
    "\n",
    "\n",
    "\n",
    "\n",
    "\n",
    "\n",
    "\n",
    "\n",
    "\n",
    "\n",
    "\n",
    "\n",
    "\n",
    "\n",
    "\n",
    "\n",
    "\n",
    "\n",
    "\n",
    "\n",
    "\n",
    "\n",
    "\n",
    "\n",
    "\n",
    "\n",
    "\n",
    "\n",
    "\n",
    "\n",
    "\n",
    "\n",
    "\n",
    "\n",
    "\n",
    "\n",
    "\n",
    "\n",
    "\n",
    "\n",
    "\n",
    "\n",
    "\n",
    "\n",
    "\n",
    "\n",
    "\n",
    "\n",
    "\n",
    "\n",
    "\n",
    "\n",
    "\n",
    "\n",
    "\n",
    "\n",
    "\n",
    "Now that we have the data, let us come back to the (extremely simple) model for how the data were generated. In this case we know precisely how they were generated but in the general case this will be a creative exercise guided heuristically by our prior knowledge about the problem. Our model has only two parameters: the true value of the physical quantity and the properties of the noise process (the measument uncertainties $\\sigma$) that introduces measurement errors. We depict this model using two nodes at the top ($\\mu$ and $\\sigma$) and the set of observations $\\{x_i; i=1,2,N\\}$ at the bottom.  "
   ]
  },
  {
   "cell_type": "markdown",
   "id": "d2992a04",
   "metadata": {},
   "source": [
    "### The likelihood"
   ]
  },
  {
   "cell_type": "markdown",
   "id": "2f9752b1",
   "metadata": {},
   "source": [
    "Remember that the likelihood is defined as the probability of our data given the unknown model parameters: $p(\\{x_i\\}\\mid\\mu,\\sigma)$. \n",
    "\n",
    "In our case and according to the problem definition, we hypothesize that the measurements follow a Gaussian distribution centred at the true value and with a standard deviation $\\sigma$. Hence\n",
    "\n",
    "$$\n",
    "p(\\{x_i\\}\\mid\\mu,\\sigma)= \\prod_{i=1}^N \\frac{1}{\\sqrt{(2\\pi)}\\sigma^2}\\exp(-\\frac{(x_i-\\mu)^2}{2\\sigma^2})\n",
    "$$\n",
    "\n",
    "Hence, if we knew the values of $\\mu$ and $\\sigma$ we could compute it easily using the Gaussian probability density. But we don't. That is precisely what we aim to infer, and the likelihood is but one character in the bayesian dramma. What bayesian inference allows us is precisely that: to infer the (distribution of the) parameters of interest given the observations. This is what we call the posterior probability which in this case is $p(\\mu, \\sigma\\mid\\{x_i\\})$. According to Bayes' theorem:\n",
    "\n",
    "$$\n",
    "p(\\mu, \\sigma\\mid\\{x_i\\}) = \\frac{p(\\{x_i\\}\\mid\\mu,\\sigma)\\cdot(p(\\mu,\\sigma))}{p(\\{x_i\\})}\n",
    "$$\n",
    "\n",
    "Let us write the code to compute the likelihood:"
   ]
  },
  {
   "cell_type": "code",
   "execution_count": 57,
   "id": "440fae13",
   "metadata": {
    "vscode": {
     "languageId": "r"
    }
   },
   "outputs": [],
   "source": [
    "likelihood <- function(mu,sigma) \n",
    "    {\n",
    "    likvec = mapply(dnorm,mean = mu,sd = sigma,x=x) # This is a vector containing the probability densities for each observation\n",
    "    return(prod(likvec))\n",
    "}\n"
   ]
  },
  {
   "cell_type": "markdown",
   "id": "cdb242d7",
   "metadata": {},
   "source": [
    "### The prior"
   ]
  },
  {
   "cell_type": "markdown",
   "id": "5aa2e63a",
   "metadata": {},
   "source": [
    "We have already defined the likelihood analytically so we can compute its value for any given pair of values \n",
    "$\\mu$ and $\\sigma$. The next two characters in the Bayesian dramma are the prior $p(\\mu,\\sigma)$ and the evidence $p\\{x_i\\}$. The latter is a scalar (a real number in this context) independent of the values of $\\mu$ and $\\sigma$. That is to say, it is the same for all values of $\\sigma$ and $\\mu$. It acts as a normalization constant that ensures that the posterior probability is properly normalized (if that is at all possible; see the concept of improper distribution in the textbook). So for the time being we will just neglect this normalization constant. This is fine as long as we do not need to select amongst competing models and aim only at inferring the posterior distribution.\n",
    "\n",
    "Then the only element left for a determination of the posterior probabilities for any value of the model parameters is the prior. I will skip here all the controversy about frequentist/bayesian inference and simply define a proper non-informative prior. Actually two: a uniform prior in a bounded interval and a Gaussian prior with a large standard deviation. How we define the prior is dependent on the problem that we attempt to solve. It is supposed to encompass our knowledge about the parameters before any data is acquired. If our measuments were measurements of the speed of a moving bicycle, I'd say that a uniform prior between 2 km/h and 100 km/h is a sensible choice. At smaller velocities the bicycle falls and, unless you measure the speed of a Tour de France cyclist descending Tourmalet, it should plausibly contain the true value. If something else is known like, for example that the cyclist is a 7 years old kid, we can narrow down the prior by specifying that our prior belief can be captured by a Gaussian probability centred at 7 km/h with a large standard deviation like 10 km/h. Notice that this allows for positive probability densities at negative values of the speed. Let us try both for our data set.    \n"
   ]
  },
  {
   "cell_type": "markdown",
   "id": "66d2b3a2",
   "metadata": {},
   "source": [
    "### The posterior"
   ]
  },
  {
   "cell_type": "markdown",
   "id": "16fb448a",
   "metadata": {},
   "source": [
    "Now, for the uniform prior we have that the posterior probability density is given by "
   ]
  },
  {
   "cell_type": "code",
   "execution_count": 58,
   "id": "bffddf9a",
   "metadata": {
    "vscode": {
     "languageId": "r"
    }
   },
   "outputs": [],
   "source": [
    "prior <- function(mu,sigma){\n",
    "    if (mu <= 3| mu>100) priorMu = 0 else priorMu = (1/97)\n",
    "    if (sigma <=0 | sigma > 100) priorSigma = 0 else priorSigma = 1/sigma\n",
    "    prior = priorMu*priorSigma\n",
    "    return(prior)\n",
    "}\n",
    "\n",
    "posterior <- function(mu,sigma){likelihood(mu,sigma)*prior(mu,sigma)}"
   ]
  },
  {
   "cell_type": "markdown",
   "id": "baad5e6b",
   "metadata": {},
   "source": [
    "Finally, let us define a grid of values of $\\mu$ and $\\sigma$ and compute the posterior probabilities for each of the grid nodes:"
   ]
  },
  {
   "cell_type": "code",
   "execution_count": 59,
   "id": "c226eb8e",
   "metadata": {
    "vscode": {
     "languageId": "r"
    }
   },
   "outputs": [
    {
     "data": {
      "image/png": "[encoded data removed]",
      "text/plain": [
       "plot without title"
      ]
     },
     "metadata": {
      "image/png": {
       "height": 420,
       "width": 420
      }
     },
     "output_type": "display_data"
    }
   ],
   "source": [
    "# Define the grid axes\n",
    "grid.mu <- seq(8,12,by=0.1)\n",
    "grid.sigma <- seq(0,4,by=0.1)\n",
    "# Use them to create the grid (for plotting purposes)\n",
    "grid <- expand.grid(grid.mu,grid.sigma)\n",
    "colnames(grid) <- c(\"mu\",\"sigma\")\n",
    "plot(grid,pch=\".\")\n",
    "\n",
    "# Now, compute the posterior at the grid nodes.\n",
    "ni=length(grid.mu)\n",
    "nj=length(grid.sigma)\n",
    "post <- matrix(NA,nrow =nj, ncol = ni)\n",
    "for (i in nj:1)\n",
    "    {\n",
    "    for (j in 1:ni)\n",
    "        {        \n",
    "        post[i,j] <- posterior(grid.mu[j],grid.sigma[i])\n",
    "        }\n",
    "    }"
   ]
  },
  {
   "cell_type": "markdown",
   "id": "710a5f0f",
   "metadata": {},
   "source": [
    "Let us visualize the inferred posterior:"
   ]
  },
  {
   "cell_type": "code",
   "execution_count": 60,
   "id": "cf41227d",
   "metadata": {
    "vscode": {
     "languageId": "r"
    }
   },
   "outputs": [
    {
     "data": {
      "image/png": "[encoded data removed]",
      "text/plain": [
       "plot without title"
      ]
     },
     "metadata": {
      "image/png": {
       "height": 420,
       "width": 420
      }
     },
     "output_type": "display_data"
    }
   ],
   "source": [
    "image(grid.sigma,grid.mu,post,xlim=c(0,3),ylim=c(8,12))\n",
    "contour(grid.sigma,grid.mu,post,add=T) # Add contour lines"
   ]
  },
  {
   "cell_type": "markdown",
   "id": "54d09ce0",
   "metadata": {},
   "source": [
    "Now, here are a few suggestions for further exploration of this very simple example:\n",
    "* What can we say about the posterior as compared to the true values? Is there a bias? \n",
    "* With the same data... how does the posterior change if we use a Gaussian prior for the true value of the measured quantity (as opposed to the uniform prior)?\n",
    "* How does the posterior change if we decrease/increase the number of measurements?\n",
    "* What happens if we keep a small number of measurements and generate different (say 10) random seeds for generating the data?\n",
    "* Is there an analytic expression for the posterior?\n",
    "\n",
    "And finally... imagine a setup where your instrument is unable to measure values above or below a certain value. For example, think of a measurement device that cannot measure values above 10.2 and for those cases you only have an upper limit: the measurent is above 10.2 but its value is unavailable. This is called censoring. How would you attempt to infer the two model parameters in this situation? In an alternative setup your measurement instrument is not triggered by measurements above or below a certain value (truncation). The difference with respect to censoring is that we do not know how many measurements would be missing (but we know the detection threshold). How would you attempt inference in this case?\n"
   ]
  },
  {
   "cell_type": "markdown",
   "id": "02da0f64",
   "metadata": {},
   "source": [
    "# My solutions"
   ]
  },
  {
   "cell_type": "markdown",
   "id": "912ccc1f",
   "metadata": {},
   "source": [
    "###  What can we say about the posterior as compared to the true values? Is there a bias? \n",
    "\n",
    "We can sample from the posterior using grid approximation."
   ]
  },
  {
   "cell_type": "code",
   "execution_count": 61,
   "id": "a87b4ac6",
   "metadata": {
    "vscode": {
     "languageId": "r"
    }
   },
   "outputs": [
    {
     "data": {
      "text/html": [
       "<table class=\"dataframe\">\n",
       "<caption>A tibble: 6 × 3</caption>\n",
       "<thead>\n",
       "\t<tr><th scope=col>mu</th><th scope=col>sigma</th><th scope=col>x_pred</th></tr>\n",
       "\t<tr><th scope=col>&lt;dbl&gt;</th><th scope=col>&lt;dbl&gt;</th><th scope=col>&lt;dbl&gt;</th></tr>\n",
       "</thead>\n",
       "<tbody>\n",
       "\t<tr><td> 9.9</td><td>1.5</td><td> 8.137217</td></tr>\n",
       "\t<tr><td> 9.9</td><td>1.7</td><td> 8.060909</td></tr>\n",
       "\t<tr><td> 9.6</td><td>1.2</td><td> 9.364753</td></tr>\n",
       "\t<tr><td>10.0</td><td>0.9</td><td> 8.109507</td></tr>\n",
       "\t<tr><td>10.2</td><td>2.0</td><td>10.919038</td></tr>\n",
       "\t<tr><td> 9.9</td><td>2.2</td><td>11.195765</td></tr>\n",
       "</tbody>\n",
       "</table>\n"
      ],
      "text/latex": [
       "A tibble: 6 × 3\n",
       "\\begin{tabular}{lll}\n",
       " mu & sigma & x\\_pred\\\\\n",
       " <dbl> & <dbl> & <dbl>\\\\\n",
       "\\hline\n",
       "\t  9.9 & 1.5 &  8.137217\\\\\n",
       "\t  9.9 & 1.7 &  8.060909\\\\\n",
       "\t  9.6 & 1.2 &  9.364753\\\\\n",
       "\t 10.0 & 0.9 &  8.109507\\\\\n",
       "\t 10.2 & 2.0 & 10.919038\\\\\n",
       "\t  9.9 & 2.2 & 11.195765\\\\\n",
       "\\end{tabular}\n"
      ],
      "text/markdown": [
       "\n",
       "A tibble: 6 × 3\n",
       "\n",
       "| mu &lt;dbl&gt; | sigma &lt;dbl&gt; | x_pred &lt;dbl&gt; |\n",
       "|---|---|---|\n",
       "|  9.9 | 1.5 |  8.137217 |\n",
       "|  9.9 | 1.7 |  8.060909 |\n",
       "|  9.6 | 1.2 |  9.364753 |\n",
       "| 10.0 | 0.9 |  8.109507 |\n",
       "| 10.2 | 2.0 | 10.919038 |\n",
       "|  9.9 | 2.2 | 11.195765 |\n",
       "\n"
      ],
      "text/plain": [
       "  mu   sigma x_pred   \n",
       "1  9.9 1.5    8.137217\n",
       "2  9.9 1.7    8.060909\n",
       "3  9.6 1.2    9.364753\n",
       "4 10.0 0.9    8.109507\n",
       "5 10.2 2.0   10.919038\n",
       "6  9.9 2.2   11.195765"
      ]
     },
     "metadata": {},
     "output_type": "display_data"
    }
   ],
   "source": [
    "library(tidyverse)\n",
    "post_samples <- sample_n(grid, size=10000, weight=post, replace=T) %>% \n",
    "    mutate(x_pred = rnorm(n(), mean=mu, sd=sigma)) %>% as_tibble()\n",
    "\n",
    "head(post_samples)\n"
   ]
  },
  {
   "cell_type": "code",
   "execution_count": 62,
   "id": "73e836fa",
   "metadata": {
    "vscode": {
     "languageId": "r"
    }
   },
   "outputs": [
    {
     "data": {
      "text/html": [
       "<table class=\"dataframe\">\n",
       "<caption>A tibble: 1 × 2</caption>\n",
       "<thead>\n",
       "\t<tr><th scope=col>x_pred_mean</th><th scope=col>x_pred_sd</th></tr>\n",
       "\t<tr><th scope=col>&lt;dbl&gt;</th><th scope=col>&lt;dbl&gt;</th></tr>\n",
       "</thead>\n",
       "<tbody>\n",
       "\t<tr><td>9.931009</td><td>1.445283</td></tr>\n",
       "</tbody>\n",
       "</table>\n"
      ],
      "text/latex": [
       "A tibble: 1 × 2\n",
       "\\begin{tabular}{ll}\n",
       " x\\_pred\\_mean & x\\_pred\\_sd\\\\\n",
       " <dbl> & <dbl>\\\\\n",
       "\\hline\n",
       "\t 9.931009 & 1.445283\\\\\n",
       "\\end{tabular}\n"
      ],
      "text/markdown": [
       "\n",
       "A tibble: 1 × 2\n",
       "\n",
       "| x_pred_mean &lt;dbl&gt; | x_pred_sd &lt;dbl&gt; |\n",
       "|---|---|\n",
       "| 9.931009 | 1.445283 |\n",
       "\n"
      ],
      "text/plain": [
       "  x_pred_mean x_pred_sd\n",
       "1 9.931009    1.445283 "
      ]
     },
     "metadata": {},
     "output_type": "display_data"
    }
   ],
   "source": [
    "\n",
    "post_samples %>% summarise(x_pred_mean = mean(x_pred), x_pred_sd = sd(x_pred))"
   ]
  },
  {
   "cell_type": "code",
   "execution_count": 64,
   "id": "40ce783a",
   "metadata": {
    "vscode": {
     "languageId": "r"
    }
   },
   "outputs": [
    {
     "data": {
      "image/png": "[encoded data removed]",
      "text/plain": [
       "plot without title"
      ]
     },
     "metadata": {
      "image/png": {
       "height": 420,
       "width": 420
      }
     },
     "output_type": "display_data"
    }
   ],
   "source": [
    "library(ggplot2)\n",
    "post_samples %>% ggplot() + \n",
    "    geom_density(aes(x = x_pred, color=\"x_pred\")) + \n",
    "    geom_density(data=as_tibble(x), aes(x=value, color=\"x\")) +\n",
    "    xlab(\"x\")\n"
   ]
  },
  {
   "cell_type": "markdown",
   "id": "4d1a6a8a",
   "metadata": {},
   "source": [
    "### With the same data... how does the posterior change if we use a Gaussian prior for the true value of the measured quantity (as opposed to the uniform prior)?"
   ]
  },
  {
   "cell_type": "code",
   "execution_count": 37,
   "id": "86730cc9",
   "metadata": {
    "vscode": {
     "languageId": "r"
    }
   },
   "outputs": [],
   "source": [
    "log_likelihood2 <- function(mu,sigma) \n",
    "    {\n",
    "    likvec = mapply(dnorm,mean = mu,sd = sigma,x=x, log=T) # This is a vector containing the probability densities for each observation\n",
    "    return(sum(likvec))\n",
    "}\n",
    "\n",
    "log_prior2 <- function(mu,sigma){\n",
    "    priorMu = dnorm(mu, 7, 10, log=T)\n",
    "    if (sigma <=0 | sigma > 100) priorSigma = 0 else priorSigma = 1/sigma\n",
    "    prior = priorMu+priorSigma\n",
    "    return(prior)\n",
    "}\n",
    "\n",
    "log_posterior2 <- function(mu,sigma){log_likelihood2(mu,sigma) + log_prior2(mu,sigma)}"
   ]
  },
  {
   "cell_type": "code",
   "execution_count": 38,
   "id": "9c8dc973",
   "metadata": {
    "vscode": {
     "languageId": "r"
    }
   },
   "outputs": [],
   "source": [
    "log_post2 <- matrix(NA,nrow =nj, ncol = ni)\n",
    "for (i in nj:1)\n",
    "    {\n",
    "    for (j in 1:ni)\n",
    "        {   \n",
    "        log_post2[i,j] <- log_posterior2(grid.mu[j],grid.sigma[i])\n",
    "        }\n",
    "    }\n"
   ]
  },
  {
   "cell_type": "code",
   "execution_count": 39,
   "id": "3a574cd6",
   "metadata": {
    "vscode": {
     "languageId": "r"
    }
   },
   "outputs": [],
   "source": [
    "post2 <- exp(log_post2)"
   ]
  },
  {
   "cell_type": "code",
   "execution_count": 40,
   "id": "9836644a",
   "metadata": {
    "vscode": {
     "languageId": "r"
    }
   },
   "outputs": [
    {
     "data": {
      "image/png": "[encoded data removed]",
      "text/plain": [
       "plot without title"
      ]
     },
     "metadata": {
      "image/png": {
       "height": 420,
       "width": 420
      }
     },
     "output_type": "display_data"
    }
   ],
   "source": [
    "image(grid.sigma,grid.mu,post2,xlim=c(0,3),ylim=c(8,12))\n",
    "contour(grid.sigma,grid.mu,post2,add=T) # Add contour lines"
   ]
  },
  {
   "cell_type": "code",
   "execution_count": 41,
   "id": "de43d6d3",
   "metadata": {
    "vscode": {
     "languageId": "r"
    }
   },
   "outputs": [
    {
     "data": {
      "text/html": [
       "<table class=\"dataframe\">\n",
       "<caption>A tibble: 6 × 3</caption>\n",
       "<thead>\n",
       "\t<tr><th scope=col>mu</th><th scope=col>sigma</th><th scope=col>x2_pred</th></tr>\n",
       "\t<tr><th scope=col>&lt;dbl&gt;</th><th scope=col>&lt;dbl&gt;</th><th scope=col>&lt;dbl&gt;</th></tr>\n",
       "</thead>\n",
       "<tbody>\n",
       "\t<tr><td>10.1</td><td>1.5</td><td> 8.854385</td></tr>\n",
       "\t<tr><td> 9.9</td><td>2.3</td><td> 8.716023</td></tr>\n",
       "\t<tr><td> 9.8</td><td>2.6</td><td>13.966029</td></tr>\n",
       "\t<tr><td> 9.6</td><td>1.7</td><td> 9.642455</td></tr>\n",
       "\t<tr><td> 9.7</td><td>1.9</td><td> 9.264134</td></tr>\n",
       "\t<tr><td> 9.8</td><td>2.0</td><td> 9.811861</td></tr>\n",
       "</tbody>\n",
       "</table>\n"
      ],
      "text/latex": [
       "A tibble: 6 × 3\n",
       "\\begin{tabular}{lll}\n",
       " mu & sigma & x2\\_pred\\\\\n",
       " <dbl> & <dbl> & <dbl>\\\\\n",
       "\\hline\n",
       "\t 10.1 & 1.5 &  8.854385\\\\\n",
       "\t  9.9 & 2.3 &  8.716023\\\\\n",
       "\t  9.8 & 2.6 & 13.966029\\\\\n",
       "\t  9.6 & 1.7 &  9.642455\\\\\n",
       "\t  9.7 & 1.9 &  9.264134\\\\\n",
       "\t  9.8 & 2.0 &  9.811861\\\\\n",
       "\\end{tabular}\n"
      ],
      "text/markdown": [
       "\n",
       "A tibble: 6 × 3\n",
       "\n",
       "| mu &lt;dbl&gt; | sigma &lt;dbl&gt; | x2_pred &lt;dbl&gt; |\n",
       "|---|---|---|\n",
       "| 10.1 | 1.5 |  8.854385 |\n",
       "|  9.9 | 2.3 |  8.716023 |\n",
       "|  9.8 | 2.6 | 13.966029 |\n",
       "|  9.6 | 1.7 |  9.642455 |\n",
       "|  9.7 | 1.9 |  9.264134 |\n",
       "|  9.8 | 2.0 |  9.811861 |\n",
       "\n"
      ],
      "text/plain": [
       "  mu   sigma x2_pred  \n",
       "1 10.1 1.5    8.854385\n",
       "2  9.9 2.3    8.716023\n",
       "3  9.8 2.6   13.966029\n",
       "4  9.6 1.7    9.642455\n",
       "5  9.7 1.9    9.264134\n",
       "6  9.8 2.0    9.811861"
      ]
     },
     "metadata": {},
     "output_type": "display_data"
    }
   ],
   "source": [
    "post2_samples <- sample_n(grid, size=10000, weight=post2, replace=T) %>% \n",
    "    mutate(x2_pred = rnorm(n(), mean=mu, sd=sigma)) %>% as_tibble()\n",
    "\n",
    "head(post2_samples)\n"
   ]
  },
  {
   "cell_type": "code",
   "execution_count": 42,
   "id": "50627b32",
   "metadata": {
    "vscode": {
     "languageId": "r"
    }
   },
   "outputs": [
    {
     "data": {
      "image/png": "[encoded data removed]",
      "text/plain": [
       "plot without title"
      ]
     },
     "metadata": {
      "image/png": {
       "height": 420,
       "width": 420
      }
     },
     "output_type": "display_data"
    }
   ],
   "source": [
    "post2_samples %>% ggplot() + \n",
    "    geom_density(aes(x = x2_pred, color=\"x_pred\")) + \n",
    "    geom_density(data=as_tibble(x), aes(x=value, color=\"x\")) +\n",
    "    xlab(\"x\")"
   ]
  },
  {
   "cell_type": "code",
   "execution_count": 43,
   "id": "50900d21",
   "metadata": {
    "vscode": {
     "languageId": "r"
    }
   },
   "outputs": [
    {
     "data": {
      "text/html": [
       "<table class=\"dataframe\">\n",
       "<caption>A tibble: 1 × 2</caption>\n",
       "<thead>\n",
       "\t<tr><th scope=col>x2_pred_mean</th><th scope=col>x2_pred_sd</th></tr>\n",
       "\t<tr><th scope=col>&lt;dbl&gt;</th><th scope=col>&lt;dbl&gt;</th></tr>\n",
       "</thead>\n",
       "<tbody>\n",
       "\t<tr><td>9.909099</td><td>2.130289</td></tr>\n",
       "</tbody>\n",
       "</table>\n"
      ],
      "text/latex": [
       "A tibble: 1 × 2\n",
       "\\begin{tabular}{ll}\n",
       " x2\\_pred\\_mean & x2\\_pred\\_sd\\\\\n",
       " <dbl> & <dbl>\\\\\n",
       "\\hline\n",
       "\t 9.909099 & 2.130289\\\\\n",
       "\\end{tabular}\n"
      ],
      "text/markdown": [
       "\n",
       "A tibble: 1 × 2\n",
       "\n",
       "| x2_pred_mean &lt;dbl&gt; | x2_pred_sd &lt;dbl&gt; |\n",
       "|---|---|\n",
       "| 9.909099 | 2.130289 |\n",
       "\n"
      ],
      "text/plain": [
       "  x2_pred_mean x2_pred_sd\n",
       "1 9.909099     2.130289  "
      ]
     },
     "metadata": {},
     "output_type": "display_data"
    }
   ],
   "source": [
    "post2_samples %>% summarise(x2_pred_mean = mean(x2_pred), x2_pred_sd = sd(x2_pred))"
   ]
  },
  {
   "cell_type": "code",
   "execution_count": 30,
   "id": "0253484d",
   "metadata": {
    "vscode": {
     "languageId": "r"
    }
   },
   "outputs": [
    {
     "data": {
      "text/html": [
       "<table class=\"dataframe\">\n",
       "<caption>A tibble: 1 × 2</caption>\n",
       "<thead>\n",
       "\t<tr><th scope=col>x_pred_mean</th><th scope=col>x_pred_sd</th></tr>\n",
       "\t<tr><th scope=col>&lt;dbl&gt;</th><th scope=col>&lt;dbl&gt;</th></tr>\n",
       "</thead>\n",
       "<tbody>\n",
       "\t<tr><td>9.900237</td><td>2.1101</td></tr>\n",
       "</tbody>\n",
       "</table>\n"
      ],
      "text/latex": [
       "A tibble: 1 × 2\n",
       "\\begin{tabular}{ll}\n",
       " x\\_pred\\_mean & x\\_pred\\_sd\\\\\n",
       " <dbl> & <dbl>\\\\\n",
       "\\hline\n",
       "\t 9.900237 & 2.1101\\\\\n",
       "\\end{tabular}\n"
      ],
      "text/markdown": [
       "\n",
       "A tibble: 1 × 2\n",
       "\n",
       "| x_pred_mean &lt;dbl&gt; | x_pred_sd &lt;dbl&gt; |\n",
       "|---|---|\n",
       "| 9.900237 | 2.1101 |\n",
       "\n"
      ],
      "text/plain": [
       "  x_pred_mean x_pred_sd\n",
       "1 9.900237    2.1101   "
      ]
     },
     "metadata": {},
     "output_type": "display_data"
    }
   ],
   "source": [
    "post_samples %>% summarise(x_pred_mean = mean(x_pred), x_pred_sd = sd(x_pred))"
   ]
  },
  {
   "cell_type": "markdown",
   "id": "f65b57ff",
   "metadata": {},
   "source": [
    "### How does the posterior change if we decrease/increase the number of measurements?"
   ]
  },
  {
   "cell_type": "code",
   "execution_count": 18,
   "id": "9e44c3e0",
   "metadata": {
    "vscode": {
     "languageId": "r"
    }
   },
   "outputs": [],
   "source": [
    "x3 <- rnorm(300,mean = 10, sd = 2)\n",
    "\n",
    "log_likelihood3 <- function(mu,sigma) \n",
    "    {\n",
    "    likvec = mapply(dnorm,mean = mu,sd = sigma,x=x3, log=T) # This is a vector containing the probability densities for each observation\n",
    "    return(sum(likvec))\n",
    "}\n",
    "\n",
    "log_prior3 <- function(mu,sigma){\n",
    "    if (mu <= 3| mu>100) priorMu = 0 else priorMu = log(1/97)\n",
    "    if (sigma <=0 | sigma > 100) priorSigma = 0 else priorSigma = 1/sigma\n",
    "    prior = priorMu+priorSigma\n",
    "    return(prior)\n",
    "}\n",
    "\n",
    "log_posterior3 <- function(mu,sigma){log_likelihood3(mu,sigma) + log_prior3(mu,sigma)}"
   ]
  },
  {
   "cell_type": "code",
   "execution_count": 19,
   "id": "626bab52",
   "metadata": {
    "vscode": {
     "languageId": "r"
    }
   },
   "outputs": [],
   "source": [
    "log_post3 <- matrix(NA,nrow =nj, ncol = ni)\n",
    "for (i in nj:1)\n",
    "    {\n",
    "    for (j in 1:ni)\n",
    "        {        \n",
    "        log_post3[i,j] <- log_posterior3(grid.mu[j],grid.sigma[i])\n",
    "        }\n",
    "    }"
   ]
  },
  {
   "cell_type": "code",
   "execution_count": 20,
   "id": "87a783e2",
   "metadata": {
    "vscode": {
     "languageId": "r"
    }
   },
   "outputs": [],
   "source": [
    "post3 = exp(log_post3)"
   ]
  },
  {
   "cell_type": "code",
   "execution_count": 21,
   "id": "b2aecc89",
   "metadata": {
    "vscode": {
     "languageId": "r"
    }
   },
   "outputs": [
    {
     "data": {
      "text/html": [
       "<table class=\"dataframe\">\n",
       "<caption>A tibble: 6 × 3</caption>\n",
       "<thead>\n",
       "\t<tr><th scope=col>mu</th><th scope=col>sigma</th><th scope=col>x3_pred</th></tr>\n",
       "\t<tr><th scope=col>&lt;dbl&gt;</th><th scope=col>&lt;dbl&gt;</th><th scope=col>&lt;dbl&gt;</th></tr>\n",
       "</thead>\n",
       "<tbody>\n",
       "\t<tr><td>10.2</td><td>1.9</td><td> 9.097584</td></tr>\n",
       "\t<tr><td>10.3</td><td>1.9</td><td> 8.639377</td></tr>\n",
       "\t<tr><td>10.1</td><td>1.9</td><td>10.316113</td></tr>\n",
       "\t<tr><td>10.1</td><td>1.9</td><td> 9.017736</td></tr>\n",
       "\t<tr><td>10.1</td><td>1.9</td><td>11.143271</td></tr>\n",
       "\t<tr><td>10.1</td><td>2.0</td><td> 6.933404</td></tr>\n",
       "</tbody>\n",
       "</table>\n"
      ],
      "text/latex": [
       "A tibble: 6 × 3\n",
       "\\begin{tabular}{lll}\n",
       " mu & sigma & x3\\_pred\\\\\n",
       " <dbl> & <dbl> & <dbl>\\\\\n",
       "\\hline\n",
       "\t 10.2 & 1.9 &  9.097584\\\\\n",
       "\t 10.3 & 1.9 &  8.639377\\\\\n",
       "\t 10.1 & 1.9 & 10.316113\\\\\n",
       "\t 10.1 & 1.9 &  9.017736\\\\\n",
       "\t 10.1 & 1.9 & 11.143271\\\\\n",
       "\t 10.1 & 2.0 &  6.933404\\\\\n",
       "\\end{tabular}\n"
      ],
      "text/markdown": [
       "\n",
       "A tibble: 6 × 3\n",
       "\n",
       "| mu &lt;dbl&gt; | sigma &lt;dbl&gt; | x3_pred &lt;dbl&gt; |\n",
       "|---|---|---|\n",
       "| 10.2 | 1.9 |  9.097584 |\n",
       "| 10.3 | 1.9 |  8.639377 |\n",
       "| 10.1 | 1.9 | 10.316113 |\n",
       "| 10.1 | 1.9 |  9.017736 |\n",
       "| 10.1 | 1.9 | 11.143271 |\n",
       "| 10.1 | 2.0 |  6.933404 |\n",
       "\n"
      ],
      "text/plain": [
       "  mu   sigma x3_pred  \n",
       "1 10.2 1.9    9.097584\n",
       "2 10.3 1.9    8.639377\n",
       "3 10.1 1.9   10.316113\n",
       "4 10.1 1.9    9.017736\n",
       "5 10.1 1.9   11.143271\n",
       "6 10.1 2.0    6.933404"
      ]
     },
     "metadata": {},
     "output_type": "display_data"
    }
   ],
   "source": [
    "post3_samples <- sample_n(grid, size=10000, weight=post3, replace=T) %>% \n",
    "    mutate(x3_pred = rnorm(n(), mean=mu, sd=sigma)) %>% as_tibble()\n",
    "\n",
    "head(post3_samples)\n"
   ]
  },
  {
   "cell_type": "code",
   "execution_count": 22,
   "id": "cc7ccc1a",
   "metadata": {
    "vscode": {
     "languageId": "r"
    }
   },
   "outputs": [
    {
     "data": {
      "image/png": "[encoded data removed]",
      "text/plain": [
       "plot without title"
      ]
     },
     "metadata": {
      "image/png": {
       "height": 420,
       "width": 420
      }
     },
     "output_type": "display_data"
    }
   ],
   "source": [
    "post3_samples %>% ggplot() + \n",
    "    geom_density(aes(x = x3_pred, color=\"x_pred\")) + \n",
    "    geom_density(data=as_tibble(x), aes(x=value, color=\"x\")) +\n",
    "    xlab(\"x\")"
   ]
  },
  {
   "cell_type": "code",
   "execution_count": 363,
   "id": "3902a772",
   "metadata": {
    "vscode": {
     "languageId": "r"
    }
   },
   "outputs": [
    {
     "data": {
      "text/html": [
       "<table class=\"dataframe\">\n",
       "<caption>A tibble: 1 × 2</caption>\n",
       "<thead>\n",
       "\t<tr><th scope=col>x3_pred_mean</th><th scope=col>x3_pred_sd</th></tr>\n",
       "\t<tr><th scope=col>&lt;dbl&gt;</th><th scope=col>&lt;dbl&gt;</th></tr>\n",
       "</thead>\n",
       "<tbody>\n",
       "\t<tr><td>10.11975</td><td>1.910284</td></tr>\n",
       "</tbody>\n",
       "</table>\n"
      ],
      "text/latex": [
       "A tibble: 1 × 2\n",
       "\\begin{tabular}{ll}\n",
       " x3\\_pred\\_mean & x3\\_pred\\_sd\\\\\n",
       " <dbl> & <dbl>\\\\\n",
       "\\hline\n",
       "\t 10.11975 & 1.910284\\\\\n",
       "\\end{tabular}\n"
      ],
      "text/markdown": [
       "\n",
       "A tibble: 1 × 2\n",
       "\n",
       "| x3_pred_mean &lt;dbl&gt; | x3_pred_sd &lt;dbl&gt; |\n",
       "|---|---|\n",
       "| 10.11975 | 1.910284 |\n",
       "\n"
      ],
      "text/plain": [
       "  x3_pred_mean x3_pred_sd\n",
       "1 10.11975     1.910284  "
      ]
     },
     "metadata": {},
     "output_type": "display_data"
    }
   ],
   "source": [
    "post3_samples %>% summarise(x3_pred_mean = mean(x3_pred), x3_pred_sd = sd(x3_pred))"
   ]
  },
  {
   "cell_type": "code",
   "execution_count": 44,
   "id": "139ac984",
   "metadata": {
    "vscode": {
     "languageId": "r"
    }
   },
   "outputs": [],
   "source": [
    "log_likelihood4 <- function(mu,sigma) \n",
    "    {\n",
    "    likvec = mapply(dnorm,mean = mu,sd = sigma,x=x3, log=T) # This is a vector containing the probability densities for each observation\n",
    "    return(sum(likvec))\n",
    "}\n",
    "\n",
    "log_prior4 <- function(mu,sigma){\n",
    "    priorMu = dnorm(mu, 7, 10, log=T)\n",
    "    if (sigma <=0 | sigma > 100) priorSigma = 0 else priorSigma = 1/sigma\n",
    "    prior = priorMu+priorSigma\n",
    "    return(prior)\n",
    "}\n",
    "\n",
    "log_posterior4 <- function(mu,sigma){log_likelihood4(mu,sigma) + log_prior4(mu,sigma)}"
   ]
  },
  {
   "cell_type": "code",
   "execution_count": 45,
   "id": "2bb4e1de",
   "metadata": {
    "vscode": {
     "languageId": "r"
    }
   },
   "outputs": [],
   "source": [
    "log_post4 <- matrix(NA,nrow =nj, ncol = ni)\n",
    "for (i in nj:1)\n",
    "    {\n",
    "    for (j in 1:ni)\n",
    "        {        \n",
    "        log_post4[i,j] <- log_posterior4(grid.mu[j],grid.sigma[i])\n",
    "        }\n",
    "    }"
   ]
  },
  {
   "cell_type": "code",
   "execution_count": 46,
   "id": "58fbc51c",
   "metadata": {
    "vscode": {
     "languageId": "r"
    }
   },
   "outputs": [],
   "source": [
    "post4 = exp(log_post4)"
   ]
  },
  {
   "cell_type": "code",
   "execution_count": 47,
   "id": "37469d37",
   "metadata": {
    "vscode": {
     "languageId": "r"
    }
   },
   "outputs": [
    {
     "data": {
      "text/html": [
       "<table class=\"dataframe\">\n",
       "<caption>A tibble: 6 × 3</caption>\n",
       "<thead>\n",
       "\t<tr><th scope=col>mu</th><th scope=col>sigma</th><th scope=col>x4_pred</th></tr>\n",
       "\t<tr><th scope=col>&lt;dbl&gt;</th><th scope=col>&lt;dbl&gt;</th><th scope=col>&lt;dbl&gt;</th></tr>\n",
       "</thead>\n",
       "<tbody>\n",
       "\t<tr><td>10.0</td><td>1.9</td><td>12.372215</td></tr>\n",
       "\t<tr><td>10.2</td><td>1.9</td><td> 9.529121</td></tr>\n",
       "\t<tr><td>10.3</td><td>2.0</td><td> 9.869182</td></tr>\n",
       "\t<tr><td>10.3</td><td>2.0</td><td> 7.067200</td></tr>\n",
       "\t<tr><td>10.3</td><td>1.9</td><td>12.794134</td></tr>\n",
       "\t<tr><td>10.2</td><td>1.8</td><td> 9.922830</td></tr>\n",
       "</tbody>\n",
       "</table>\n"
      ],
      "text/latex": [
       "A tibble: 6 × 3\n",
       "\\begin{tabular}{lll}\n",
       " mu & sigma & x4\\_pred\\\\\n",
       " <dbl> & <dbl> & <dbl>\\\\\n",
       "\\hline\n",
       "\t 10.0 & 1.9 & 12.372215\\\\\n",
       "\t 10.2 & 1.9 &  9.529121\\\\\n",
       "\t 10.3 & 2.0 &  9.869182\\\\\n",
       "\t 10.3 & 2.0 &  7.067200\\\\\n",
       "\t 10.3 & 1.9 & 12.794134\\\\\n",
       "\t 10.2 & 1.8 &  9.922830\\\\\n",
       "\\end{tabular}\n"
      ],
      "text/markdown": [
       "\n",
       "A tibble: 6 × 3\n",
       "\n",
       "| mu &lt;dbl&gt; | sigma &lt;dbl&gt; | x4_pred &lt;dbl&gt; |\n",
       "|---|---|---|\n",
       "| 10.0 | 1.9 | 12.372215 |\n",
       "| 10.2 | 1.9 |  9.529121 |\n",
       "| 10.3 | 2.0 |  9.869182 |\n",
       "| 10.3 | 2.0 |  7.067200 |\n",
       "| 10.3 | 1.9 | 12.794134 |\n",
       "| 10.2 | 1.8 |  9.922830 |\n",
       "\n"
      ],
      "text/plain": [
       "  mu   sigma x4_pred  \n",
       "1 10.0 1.9   12.372215\n",
       "2 10.2 1.9    9.529121\n",
       "3 10.3 2.0    9.869182\n",
       "4 10.3 2.0    7.067200\n",
       "5 10.3 1.9   12.794134\n",
       "6 10.2 1.8    9.922830"
      ]
     },
     "metadata": {},
     "output_type": "display_data"
    }
   ],
   "source": [
    "post4_samples <- sample_n(grid, size=10000, weight=post4, replace=T) %>% \n",
    "    mutate(x4_pred = rnorm(n(), mean=mu, sd=sigma)) %>% as_tibble()\n",
    "\n",
    "head(post4_samples)\n"
   ]
  },
  {
   "cell_type": "code",
   "execution_count": 48,
   "id": "e5cbe0a4",
   "metadata": {
    "vscode": {
     "languageId": "r"
    }
   },
   "outputs": [
    {
     "data": {
      "text/html": [
       "<table class=\"dataframe\">\n",
       "<caption>A tibble: 1 × 2</caption>\n",
       "<thead>\n",
       "\t<tr><th scope=col>x4_pred_mean</th><th scope=col>x4_pred_sd</th></tr>\n",
       "\t<tr><th scope=col>&lt;dbl&gt;</th><th scope=col>&lt;dbl&gt;</th></tr>\n",
       "</thead>\n",
       "<tbody>\n",
       "\t<tr><td>10.21339</td><td>1.956409</td></tr>\n",
       "</tbody>\n",
       "</table>\n"
      ],
      "text/latex": [
       "A tibble: 1 × 2\n",
       "\\begin{tabular}{ll}\n",
       " x4\\_pred\\_mean & x4\\_pred\\_sd\\\\\n",
       " <dbl> & <dbl>\\\\\n",
       "\\hline\n",
       "\t 10.21339 & 1.956409\\\\\n",
       "\\end{tabular}\n"
      ],
      "text/markdown": [
       "\n",
       "A tibble: 1 × 2\n",
       "\n",
       "| x4_pred_mean &lt;dbl&gt; | x4_pred_sd &lt;dbl&gt; |\n",
       "|---|---|\n",
       "| 10.21339 | 1.956409 |\n",
       "\n"
      ],
      "text/plain": [
       "  x4_pred_mean x4_pred_sd\n",
       "1 10.21339     1.956409  "
      ]
     },
     "metadata": {},
     "output_type": "display_data"
    }
   ],
   "source": [
    "post4_samples %>% summarise(x4_pred_mean = mean(x4_pred), x4_pred_sd = sd(x4_pred))"
   ]
  },
  {
   "cell_type": "code",
   "execution_count": 49,
   "id": "514c75fa",
   "metadata": {
    "vscode": {
     "languageId": "r"
    }
   },
   "outputs": [
    {
     "data": {
      "image/png": "[encoded data removed]",
      "text/plain": [
       "plot without title"
      ]
     },
     "metadata": {
      "image/png": {
       "height": 420,
       "width": 420
      }
     },
     "output_type": "display_data"
    }
   ],
   "source": [
    "post4_samples %>% ggplot() + \n",
    "    geom_density(aes(x = x4_pred, color=\"x_pred\")) + \n",
    "    geom_density(data=as_tibble(x), aes(x=value, color=\"x\")) +\n",
    "    xlab(\"x\")"
   ]
  },
  {
   "cell_type": "markdown",
   "id": "053ca412",
   "metadata": {},
   "source": [
    "### What happens if we keep a small number of measurements and generate different (say 10) random seeds for generating the data?"
   ]
  },
  {
   "cell_type": "code",
   "execution_count": 55,
   "id": "991e10e9",
   "metadata": {
    "vscode": {
     "languageId": "r"
    }
   },
   "outputs": [],
   "source": [
    "set.seed(10)\n",
    "x <- rnorm(25,mean = 10, sd = 2)"
   ]
  },
  {
   "cell_type": "markdown",
   "id": "7c0315aa",
   "metadata": {},
   "source": [
    "### Is there an analytic expression for the posterior?"
   ]
  },
  {
   "cell_type": "markdown",
   "id": "b7cb9771",
   "metadata": {},
   "source": [
    "\\begin{equation}\n",
    "\\begin{split}\n",
    "p(\\mu, \\sigma\\mid\\{x_i\\}) & = \\frac{p(\\{x_i\\}\\mid\\mu,\\sigma)\\cdot(p(\\mu,\\sigma))}{p(\\{x_i\\})} \\propto p(\\{x_i\\}\\mid\\mu,\\sigma)\\cdot(p(\\mu,\\sigma)) \\propto p(\\{x_i\\}\\mid\\mu,\\sigma)\\cdot p(\\mu) \\cdot p(\\sigma) \\\\\n",
    "& \\propto \\frac{1}{a} \\cdot \\frac{1}{\\sigma} \\cdot \\prod_{i=1}^N \\frac{1}{\\sqrt{(2\\pi)}\\sigma^2}\\exp(-\\frac{(x_i-\\mu)^2}{2\\sigma^2}) \n",
    "\\propto \\frac{1}{\\sigma^{N+1}} \\cdot \\exp(-\\sum_{i=1}^N \\frac{(x_i-\\mu)^2}{2\\sigma^2}) \n",
    "\\end{split}\n",
    "\\end{equation}\n",
    "\n"
   ]
  },
  {
   "cell_type": "markdown",
   "id": "77272826",
   "metadata": {},
   "source": []
  }
 ],
 "metadata": {
  "kernelspec": {
   "display_name": "R",
   "language": "R",
   "name": "ir"
  },
  "language_info": {
   "codemirror_mode": "r",
   "file_extension": ".r",
   "mimetype": "text/x-r-source",
   "name": "R",
   "pygments_lexer": "r",
   "version": "4.1.3"
  }
 },
 "nbformat": 4,
 "nbformat_minor": 5
}
